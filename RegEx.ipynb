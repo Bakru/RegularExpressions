{
 "cells": [
  {
   "cell_type": "code",
   "execution_count": 1,
   "metadata": {},
   "outputs": [],
   "source": [
    "import re"
   ]
  },
  {
   "cell_type": "markdown",
   "metadata": {},
   "source": [
    "## The simple Match (Non-Global). Literal Charecters Matching.  Left Most matched First"
   ]
  },
  {
   "cell_type": "markdown",
   "metadata": {},
   "source": [
    "### Good Regular Expression should match the text you target. Only the target. Nothing else."
   ]
  },
  {
   "cell_type": "code",
   "execution_count": 2,
   "metadata": {},
   "outputs": [
    {
     "name": "stdout",
     "output_type": "stream",
     "text": [
      "Match was found at 26-28: is\n",
      "Testing unstructured data  --> is <--\n"
     ]
    }
   ],
   "source": [
    "text = \"Testing unstructured data is very complex and is time consuming\"\n",
    "pattern = 'is'\n",
    "\n",
    "match = re.search(pattern,  text)\n",
    "\n",
    "print(\"Match was found at {start}-{end}: {match}\".format(start = match.start(), end = match.end(), match = match.group()))\n",
    "print(text[:match.start()], \"-->\" ,text[match.start():match.end()],\"<--\")"
   ]
  },
  {
   "cell_type": "markdown",
   "metadata": {},
   "source": [
    "## It is Case Sensitive. Now Global Matching"
   ]
  },
  {
   "cell_type": "code",
   "execution_count": 3,
   "metadata": {},
   "outputs": [
    {
     "name": "stdout",
     "output_type": "stream",
     "text": [
      "Match 1 was found at 4-7: ing\n",
      "Match 2 was found at 22-25: ing\n",
      "Match 3 was found at 33-36: ing\n",
      "Match 4 was found at 45-48: ing\n",
      "Match 5 was found at 57-60: ing\n"
     ]
    }
   ],
   "source": [
    "test_str = \"\"\"Testing is time consuming. Analysing and finding interesting matches would show hidden patterns\"\"\"\n",
    "regex = 'ing'\n",
    "\n",
    "matches = re.finditer(regex, test_str, re.MULTILINE)\n",
    "for matchNum, match in enumerate(matches, start=1):\n",
    "    print (\"Match {matchNum} was found at {start}-{end}: {match}\".format(matchNum = matchNum, start = match.start(), end = match.end(), match = match.group()))    \n",
    "    #for groupNum in range(0, len(match.groups())):\n",
    "        #print (\"Group {groupNum} found at {start}-{end}: {group}\".format(groupNum = groupNum+1, start = match.start(groupNum), end = match.end(groupNum), group = match.group(groupNum)))"
   ]
  },
  {
   "cell_type": "markdown",
   "metadata": {},
   "source": [
    "## Case Insensitive. IGNORE CASE. Global Matching"
   ]
  },
  {
   "cell_type": "code",
   "execution_count": 4,
   "metadata": {},
   "outputs": [
    {
     "name": "stdout",
     "output_type": "stream",
     "text": [
      "Match 1 was found at 0-12: unstructured\n",
      "Match 2 was found at 77-89: UNSTRUCTURED\n"
     ]
    }
   ],
   "source": [
    "test_str = \"\"\"unstructured or structured data. which one is more complex? >80% of DATA are UNSTRUCTURED\"\"\"\n",
    "regex = 'unstructured'\n",
    "\n",
    "matches = re.finditer(regex, test_str, re.IGNORECASE)\n",
    "for matchNum, match in enumerate(matches, start=1):\n",
    "    print (\"Match {matchNum} was found at {start}-{end}: {match}\".format(matchNum = matchNum, start = match.start(), end = match.end(), match = match.group()))    \n",
    "    for groupNum in range(0, len(match.groups())):\n",
    "        print (\"Group {groupNum} found at {start}-{end}: {group}\".format(groupNum = groupNum+1, start = match.start(groupNum), end = match.end(groupNum), group = match.group(groupNum)))"
   ]
  },
  {
   "cell_type": "markdown",
   "metadata": {},
   "source": [
    "##  Meta Characters. (.) Period  \n",
    "#### Period matches any single character except a line break"
   ]
  },
  {
   "cell_type": "code",
   "execution_count": 5,
   "metadata": {},
   "outputs": [
    {
     "name": "stdout",
     "output_type": "stream",
     "text": [
      "Match 1 was found at 0-3: hot\n",
      "Match 2 was found at 9-12: hat\n",
      "Match 3 was found at 13-16: hit\n"
     ]
    }
   ],
   "source": [
    "test_str = \"\"\"hot heat hat hit\"\"\"\n",
    "regex = 'h.t' #Notice the period. It makes the dot to match with any single character\n",
    "\n",
    "matches = re.finditer(regex, test_str, re.MULTILINE)\n",
    "for matchNum, match in enumerate(matches, start=1):\n",
    "    print (\"Match {matchNum} was found at {start}-{end}: {match}\".format(matchNum = matchNum, start = match.start(), end = match.end(), match = match.group()))    "
   ]
  },
  {
   "cell_type": "markdown",
   "metadata": {},
   "source": [
    "#### Character class []. Matches any character contained between the square brackets."
   ]
  },
  {
   "cell_type": "code",
   "execution_count": 6,
   "metadata": {},
   "outputs": [
    {
     "name": "stdout",
     "output_type": "stream",
     "text": [
      "Match 1 was found at 9-13: ding\n",
      "Match 2 was found at 19-23: zing\n",
      "Match 3 was found at 39-43: ding\n"
     ]
    }
   ],
   "source": [
    "test_str = \"\"\"Understanding analyzing testing and finding faults\"\"\"\n",
    "regex = '[d,z]ing' #Notice the comma. d or z\n",
    "\n",
    "matches = re.finditer(regex, test_str, re.MULTILINE)\n",
    "for matchNum, match in enumerate(matches, start=1):\n",
    "    print (\"Match {matchNum} was found at {start}-{end}: {match}\".format(matchNum = matchNum, start = match.start(), end = match.end(), match = match.group()))    "
   ]
  },
  {
   "cell_type": "code",
   "execution_count": 7,
   "metadata": {},
   "outputs": [
    {
     "name": "stdout",
     "output_type": "stream",
     "text": [
      "Match 1 was found at 9-13: ding\n",
      "Match 2 was found at 19-23: zing\n",
      "Match 3 was found at 27-31: ting\n",
      "Match 4 was found at 39-43: ding\n"
     ]
    }
   ],
   "source": [
    "test_str = \"\"\"Understanding analyzing testing and finding faults\"\"\"\n",
    "regex = '[d-z]ing' #Notice the hyphen. d tob z\n",
    "\n",
    "matches = re.finditer(regex, test_str, re.MULTILINE)\n",
    "for matchNum, match in enumerate(matches, start=1):\n",
    "    print (\"Match {matchNum} was found at {start}-{end}: {match}\".format(matchNum = matchNum, start = match.start(), end = match.end(), match = match.group()))    "
   ]
  },
  {
   "cell_type": "code",
   "execution_count": 8,
   "metadata": {},
   "outputs": [
    {
     "name": "stdout",
     "output_type": "stream",
     "text": [
      "Match 1 was found at 4-7: fat\n",
      "Match 2 was found at 8-11: cat\n",
      "Match 3 was found at 12-15: sat\n",
      "Match 4 was found at 23-26: mat\n"
     ]
    }
   ],
   "source": [
    "test_str = \"\"\"The fat cat sat on the mat.\"\"\"\n",
    "regex = '[fcsm]at' #Notice the hyphen. d tob z\n",
    "\n",
    "matches = re.finditer(regex, test_str, re.MULTILINE)\n",
    "for matchNum, match in enumerate(matches, start=1):\n",
    "    print (\"Match {matchNum} was found at {start}-{end}: {match}\".format(matchNum = matchNum, start = match.start(), end = match.end(), match = match.group()))    "
   ]
  },
  {
   "cell_type": "markdown",
   "metadata": {},
   "source": [
    "#### Negated character class [^ ]. Matches any character that is not contained between the square brackets"
   ]
  },
  {
   "cell_type": "code",
   "execution_count": 9,
   "metadata": {},
   "outputs": [
    {
     "name": "stdout",
     "output_type": "stream",
     "text": [
      "Match 1 was found at 59-63: ming\n"
     ]
    }
   ],
   "source": [
    "test_str = \"\"\"Testing unstructured data is very complex and is time consuming.\n",
    "server log analysis and testing using regular expressions\"\"\"\n",
    "regex = '[^s-t]ing' # notice ^ and -. Exclude s to t (include other alphabates). and ends with ing \n",
    "\n",
    "matches = re.finditer(regex, test_str, re.MULTILINE)\n",
    "for matchNum, match in enumerate(matches, start=1):\n",
    "    print (\"Match {matchNum} was found at {start}-{end}: {match}\".format(matchNum = matchNum, start = match.start(), end = match.end(), match = match.group()))    "
   ]
  },
  {
   "cell_type": "markdown",
   "metadata": {},
   "source": [
    "#### Asterisk (*).  Matches 0 or more repetitions of the preceding symbol."
   ]
  },
  {
   "cell_type": "code",
   "execution_count": 10,
   "metadata": {},
   "outputs": [
    {
     "name": "stdout",
     "output_type": "stream",
     "text": [
      "Match 1 was found at 42-45: and\n",
      "Match 2 was found at 76-78: an\n",
      "Match 3 was found at 85-88: and\n"
     ]
    }
   ],
   "source": [
    "test_str = \"\"\"Testing unstructured data is very complex and is time consuming.\n",
    "server log analysis and testing using regular expressions\"\"\"\n",
    "regex = 'and*' # notice d & *. d can repeat zero or more times \n",
    "\n",
    "matches = re.finditer(regex, test_str, re.MULTILINE)\n",
    "for matchNum, match in enumerate(matches, start=1):\n",
    "    print (\"Match {matchNum} was found at {start}-{end}: {match}\".format(matchNum = matchNum, start = match.start(), end = match.end(), match = match.group()))    "
   ]
  },
  {
   "cell_type": "markdown",
   "metadata": {},
   "source": [
    "#### Plus(+). Matches 1 or more repetitions of the preceding symbol."
   ]
  },
  {
   "cell_type": "code",
   "execution_count": 11,
   "metadata": {},
   "outputs": [
    {
     "name": "stdout",
     "output_type": "stream",
     "text": [
      "Match 1 was found at 7-10: can\n",
      "Match 2 was found at 48-52: cann\n"
     ]
    }
   ],
   "source": [
    "test_str = \"\"\"Nobody can bring you peace but yourself.\n",
    "If you cannot do great things, do small things in a great way.\"\"\"\n",
    "regex = 'can+' # notice d & +.  n can repeat one or more times \n",
    "\n",
    "matches = re.finditer(regex, test_str, re.MULTILINE)\n",
    "for matchNum, match in enumerate(matches, start=1):\n",
    "    print (\"Match {matchNum} was found at {start}-{end}: {match}\".format(matchNum = matchNum, start = match.start(), end = match.end(), match = match.group()))    "
   ]
  },
  {
   "cell_type": "markdown",
   "metadata": {},
   "source": [
    "#### Question Symbol ?  Makes the preceding symbol optional"
   ]
  },
  {
   "cell_type": "code",
   "execution_count": 12,
   "metadata": {},
   "outputs": [
    {
     "name": "stdout",
     "output_type": "stream",
     "text": [
      "Match 1 was found at 0-3: hot\n",
      "Match 2 was found at 4-8: heat\n",
      "Match 3 was found at 9-12: hat\n",
      "Match 4 was found at 13-16: hit\n"
     ]
    }
   ],
   "source": [
    "test_str = \"\"\"hot heat hat hit\"\"\"\n",
    "regex = 'h.a?t' #Notice the . and ?. ? makes matching with a optional\n",
    "\n",
    "matches = re.finditer(regex, test_str, re.MULTILINE)\n",
    "for matchNum, match in enumerate(matches, start=1):\n",
    "    print (\"Match {matchNum} was found at {start}-{end}: {match}\".format(matchNum = matchNum, start = match.start(), end = match.end(), match = match.group()))    "
   ]
  },
  {
   "cell_type": "code",
   "execution_count": 13,
   "metadata": {},
   "outputs": [
    {
     "name": "stdout",
     "output_type": "stream",
     "text": [
      "Match 1 was found at 0-5: color\n",
      "Match 2 was found at 9-15: colour\n"
     ]
    }
   ],
   "source": [
    "test_str = \"\"\"color or colour\"\"\"\n",
    "regex = 'colou?r' #Notice the . and ?. ? makes matching with a optional\n",
    "\n",
    "matches = re.finditer(regex, test_str, re.MULTILINE)\n",
    "for matchNum, match in enumerate(matches, start=1):\n",
    "    print (\"Match {matchNum} was found at {start}-{end}: {match}\".format(matchNum = matchNum, start = match.start(), end = match.end(), match = match.group()))    "
   ]
  },
  {
   "cell_type": "markdown",
   "metadata": {},
   "source": [
    "#### Braces {n,m}. Matches at least \"n\" but not more than \"m\" repetitions of the preceding symbol.\n"
   ]
  },
  {
   "cell_type": "code",
   "execution_count": 14,
   "metadata": {},
   "outputs": [
    {
     "name": "stdout",
     "output_type": "stream",
     "text": [
      "Match 1 was found at 0-5: bookk\n",
      "Match 2 was found at 12-15: boo\n",
      "Match 3 was found at 23-28: bookk\n"
     ]
    }
   ],
   "source": [
    "test_str = \"\"\"bookkeeper. boomerang. bookkeeping. okie dokie\"\"\"\n",
    "regex = 'book{0,2}' #Notice the brace. k to matches atleast 0 k to 2\n",
    "\n",
    "matches = re.finditer(regex, test_str, re.MULTILINE)\n",
    "for matchNum, match in enumerate(matches, start=1):\n",
    "    print (\"Match {matchNum} was found at {start}-{end}: {match}\".format(matchNum = matchNum, start = match.start(), end = match.end(), match = match.group()))    "
   ]
  },
  {
   "cell_type": "code",
   "execution_count": 15,
   "metadata": {},
   "outputs": [
    {
     "name": "stdout",
     "output_type": "stream",
     "text": [
      "Match 1 was found at 7-20:  123-456-7890\n"
     ]
    }
   ],
   "source": [
    "test_str = \"\"\"phone1# 123-456-7890\n",
    "phone#2 126-2337-4577\n",
    "phone#3 2234-444-5555\"\"\"\n",
    "regex = ' [0-9]{3}-[0-9]{3}-[0-9]{4}' #Notice the brace. k to matches atleast 0 k to 2\n",
    "\n",
    "matches = re.finditer(regex, test_str, re.MULTILINE)\n",
    "for matchNum, match in enumerate(matches, start=1):\n",
    "    print (\"Match {matchNum} was found at {start}-{end}: {match}\".format(matchNum = matchNum, start = match.start(), end = match.end(), match = match.group()))    "
   ]
  },
  {
   "cell_type": "markdown",
   "metadata": {},
   "source": [
    "#### Character group (xyz). Matches the characters xyz in that exact order.\n"
   ]
  },
  {
   "cell_type": "code",
   "execution_count": 16,
   "metadata": {},
   "outputs": [
    {
     "name": "stdout",
     "output_type": "stream",
     "text": [
      "Match 1 was found at 0-8: bookkeep\n",
      "Match 2 was found at 23-31: bookkeep\n"
     ]
    }
   ],
   "source": [
    "test_str = \"\"\"bookkeeper. boomerang. bookkeeping. okie dokie\"\"\"\n",
    "regex = '.(ookk)...' #Notice the parenthesis. ookkee matches in same order\n",
    "\n",
    "matches = re.finditer(regex, test_str, re.MULTILINE)\n",
    "for matchNum, match in enumerate(matches, start=1):\n",
    "    print (\"Match {matchNum} was found at {start}-{end}: {match}\".format(matchNum = matchNum, start = match.start(), end = match.end(), match = match.group()))    "
   ]
  },
  {
   "cell_type": "markdown",
   "metadata": {},
   "source": [
    "#### Alternation |. Matches either the characters before or the characters after the symbol."
   ]
  },
  {
   "cell_type": "code",
   "execution_count": 17,
   "metadata": {},
   "outputs": [
    {
     "name": "stdout",
     "output_type": "stream",
     "text": [
      "Match 1 was found at 0-13: resumeOne.txt\n",
      "Match 2 was found at 14-27: resumeTwo.txt\n"
     ]
    }
   ],
   "source": [
    "test_str = \"\"\"resumeOne.txt resumeTwo.txt resumeOld.txt resumeOne_txt\"\"\"\n",
    "regex = 'resume(One|Two)\\.txt' #Notice the pipe char One or Two # Zero escaped explained below\n",
    "\n",
    "matches = re.finditer(regex, test_str, re.MULTILINE)\n",
    "for matchNum, match in enumerate(matches, start=1):\n",
    "    print (\"Match {matchNum} was found at {start}-{end}: {match}\".format(matchNum = matchNum, start = match.start(), end = match.end(), match = match.group()))    "
   ]
  },
  {
   "cell_type": "markdown",
   "metadata": {},
   "source": [
    "#### Escapes the next character. This allows you to match reserved characters [ ] ( ) { } . * + ? ^ $ \\ |"
   ]
  },
  {
   "cell_type": "code",
   "execution_count": 18,
   "metadata": {},
   "outputs": [
    {
     "name": "stdout",
     "output_type": "stream",
     "text": [
      "Match 1 was found at 13-18: 10.10\n",
      "Match 2 was found at 30-35: 10:10\n",
      "Match 3 was found at 42-47: 10,10\n"
     ]
    }
   ],
   "source": [
    "test_str = \"\"\"I have given 10.10 dollars at 10:10 AM to 10,100 people\"\"\"\n",
    "regex = '10.10' #Notice the parenthesis. ookkee matches in same order\n",
    "\n",
    "matches = re.finditer(regex, test_str, re.MULTILINE)\n",
    "for matchNum, match in enumerate(matches, start=1):\n",
    "    print (\"Match {matchNum} was found at {start}-{end}: {match}\".format(matchNum = matchNum, start = match.start(), end = match.end(), match = match.group()))    "
   ]
  },
  {
   "cell_type": "code",
   "execution_count": 19,
   "metadata": {},
   "outputs": [
    {
     "name": "stdout",
     "output_type": "stream",
     "text": [
      "Match 1 was found at 13-18: 10.10\n"
     ]
    }
   ],
   "source": [
    "test_str = \"\"\"I have given 10.10 dollars at 10:10 AM to 1010 people\"\"\"\n",
    "regex = '10\\.10' #Notice the parenthesis. ookkee matches in same order\n",
    "\n",
    "matches = re.finditer(regex, test_str, re.MULTILINE)\n",
    "for matchNum, match in enumerate(matches, start=1):\n",
    "    print (\"Match {matchNum} was found at {start}-{end}: {match}\".format(matchNum = matchNum, start = match.start(), end = match.end(), match = match.group()))    "
   ]
  },
  {
   "cell_type": "markdown",
   "metadata": {},
   "source": [
    "#### Matches the beginning of the input ^ (or \\A)\n"
   ]
  },
  {
   "cell_type": "code",
   "execution_count": 20,
   "metadata": {},
   "outputs": [
    {
     "name": "stdout",
     "output_type": "stream",
     "text": [
      "Match 1 was found at 0-3: win\n",
      "Match 2 was found at 33-36: win\n"
     ]
    }
   ],
   "source": [
    "test_str = \"\"\"winning takes talent, to repeat \n",
    "winning takes character\"\"\"\n",
    "regex = '^win'\n",
    "\n",
    "matches = re.finditer(regex, test_str, re.MULTILINE)\n",
    "for matchNum, match in enumerate(matches, start=1):\n",
    "    print (\"Match {matchNum} was found at {start}-{end}: {match}\".format(matchNum = matchNum, start = match.start(), end = match.end(), match = match.group()))    "
   ]
  },
  {
   "cell_type": "code",
   "execution_count": 21,
   "metadata": {
    "scrolled": true
   },
   "outputs": [
    {
     "name": "stdout",
     "output_type": "stream",
     "text": [
      "Match 1 was found at 0-3: win\n"
     ]
    }
   ],
   "source": [
    "test_str = \"\"\"winning takes talent, to repeat \n",
    "winning takes character\"\"\"\n",
    "regex = '\\Awin'\n",
    "\n",
    "matches = re.finditer(regex, test_str, re.MULTILINE)\n",
    "for matchNum, match in enumerate(matches, start=1):\n",
    "    print (\"Match {matchNum} was found at {start}-{end}: {match}\".format(matchNum = matchNum, start = match.start(), end = match.end(), match = match.group()))    "
   ]
  },
  {
   "cell_type": "markdown",
   "metadata": {},
   "source": [
    "#### Matches the end of the input $ (or \\Z)"
   ]
  },
  {
   "cell_type": "code",
   "execution_count": 22,
   "metadata": {},
   "outputs": [
    {
     "name": "stdout",
     "output_type": "stream",
     "text": [
      "Match 1 was found at 6-15: something\n",
      "Match 2 was found at 71-80: something\n"
     ]
    }
   ],
   "source": [
    "test_str = \"\"\"Think something\n",
    "The end is never the end. It's always the beginning of something\"\"\"\n",
    "regex = 'something$' #Notice the parenthesis. ookkee matches in same order\n",
    "\n",
    "matches = re.finditer(regex, test_str, re.MULTILINE)\n",
    "for matchNum, match in enumerate(matches, start=1):\n",
    "    print (\"Match {matchNum} was found at {start}-{end}: {match}\".format(matchNum = matchNum, start = match.start(), end = match.end(), match = match.group()))    "
   ]
  },
  {
   "cell_type": "code",
   "execution_count": 23,
   "metadata": {
    "scrolled": true
   },
   "outputs": [
    {
     "name": "stdout",
     "output_type": "stream",
     "text": [
      "Match 1 was found at 71-80: something\n"
     ]
    }
   ],
   "source": [
    "test_str = \"\"\"Think something\n",
    "The end is never the end. It's always the beginning of something\"\"\"\n",
    "regex = 'something\\Z' #Notice the parenthesis. ookkee matches in same order\n",
    "\n",
    "matches = re.finditer(regex, test_str, re.MULTILINE)\n",
    "for matchNum, match in enumerate(matches, start=1):\n",
    "    print (\"Match {matchNum} was found at {start}-{end}: {match}\".format(matchNum = matchNum, start = match.start(), end = match.end(), match = match.group()))    "
   ]
  },
  {
   "cell_type": "markdown",
   "metadata": {},
   "source": [
    "#### Other special characters tab \\t"
   ]
  },
  {
   "cell_type": "code",
   "execution_count": 24,
   "metadata": {},
   "outputs": [
    {
     "name": "stdout",
     "output_type": "stream",
     "text": [
      "Match 1 was found at 0-8: you\tfly.\n",
      "Match 2 was found at 9-17: Fly\thome\n"
     ]
    }
   ],
   "source": [
    "test_str = \"\"\"you\tfly. Fly\thome\"\"\"\n",
    "regex = '...\\t....' #Notice the parenthesis. ookkee matches in same order\n",
    "    \n",
    "matches = re.finditer(regex, test_str, re.MULTILINE)\n",
    "for matchNum, match in enumerate(matches, start=1):\n",
    "    print (\"Match {matchNum} was found at {start}-{end}: {match}\".format(matchNum = matchNum, start = match.start(), end = match.end(), match = match.group()))    "
   ]
  },
  {
   "cell_type": "markdown",
   "metadata": {},
   "source": [
    "#### Other special characters newline \\n"
   ]
  },
  {
   "cell_type": "code",
   "execution_count": 25,
   "metadata": {},
   "outputs": [
    {
     "name": "stdout",
     "output_type": "stream",
     "text": [
      "Match 1 was found at 4-10: fly\n",
      "Go\n"
     ]
    }
   ],
   "source": [
    "test_str = \"\"\"you\tfly\n",
    "Go\thome\"\"\"\n",
    "regex = '...\\n..' #Notice the parenthesis. ookkee matches in same order\n",
    "    \n",
    "matches = re.finditer(regex, test_str, re.MULTILINE)\n",
    "for matchNum, match in enumerate(matches, start=1):\n",
    "    print (\"Match {matchNum} was found at {start}-{end}: {match}\".format(matchNum = matchNum, start = match.start(), end = match.end(), match = match.group()))    "
   ]
  },
  {
   "cell_type": "markdown",
   "metadata": {},
   "source": [
    "## Shorthand Character Sets"
   ]
  },
  {
   "cell_type": "markdown",
   "metadata": {},
   "source": [
    "#### \\w Matches alphanumeric characters: [a-zA-Z0-9]"
   ]
  },
  {
   "cell_type": "code",
   "execution_count": 26,
   "metadata": {},
   "outputs": [
    {
     "name": "stdout",
     "output_type": "stream",
     "text": [
      "Match 1 was found at 0-3: the\n",
      "Match 2 was found at 4-7: fat\n",
      "Match 3 was found at 8-11: cat\n",
      "Match 4 was found at 12-15: sat\n",
      "Match 5 was found at 19-22: the\n",
      "Match 6 was found at 23-26: mat\n"
     ]
    }
   ],
   "source": [
    "test_str = \"\"\"the fat cat sat on the mat\"\"\"\n",
    "regex = '\\w\\w\\w' #Notice the parenthesis. ookkee matches in same order\n",
    "    \n",
    "matches = re.finditer(regex, test_str, re.MULTILINE)\n",
    "for matchNum, match in enumerate(matches, start=1):\n",
    "    print (\"Match {matchNum} was found at {start}-{end}: {match}\".format(matchNum = matchNum, start = match.start(), end = match.end(), match = match.group()))    "
   ]
  },
  {
   "cell_type": "markdown",
   "metadata": {},
   "source": [
    "#### \\W Matches non-alphanumeric characters: [^\\w]"
   ]
  },
  {
   "cell_type": "code",
   "execution_count": 27,
   "metadata": {},
   "outputs": [
    {
     "name": "stdout",
     "output_type": "stream",
     "text": [
      "Match 1 was found at 3-6:  & \n"
     ]
    }
   ],
   "source": [
    "test_str = \"\"\"Cat & Mouse are not friends\"\"\"\n",
    "regex = '\\W\\W\\W'\n",
    "    \n",
    "matches = re.finditer(regex, test_str, re.MULTILINE)\n",
    "for matchNum, match in enumerate(matches, start=1):\n",
    "    print (\"Match {matchNum} was found at {start}-{end}: {match}\".format(matchNum = matchNum, start = match.start(), end = match.end(), match = match.group()))    "
   ]
  },
  {
   "cell_type": "markdown",
   "metadata": {},
   "source": [
    "#### \\d Matches digits: [0-9]"
   ]
  },
  {
   "cell_type": "code",
   "execution_count": 28,
   "metadata": {},
   "outputs": [
    {
     "name": "stdout",
     "output_type": "stream",
     "text": [
      "Match 1 was found at 7-20:  123-456-7890\n"
     ]
    }
   ],
   "source": [
    "test_str = \"\"\"phone1# 123-456-7890\n",
    "phone#2 126-2337-4577\n",
    "phone#3 2234-444-5555\"\"\"\n",
    "regex = ' \\d{3}-\\d{3}-\\d{4}'\n",
    "\n",
    "matches = re.finditer(regex, test_str, re.MULTILINE)\n",
    "for matchNum, match in enumerate(matches, start=1):\n",
    "    print (\"Match {matchNum} was found at {start}-{end}: {match}\".format(matchNum = matchNum, start = match.start(), end = match.end(), match = match.group()))    "
   ]
  },
  {
   "cell_type": "markdown",
   "metadata": {},
   "source": [
    "#### \\D Matches non-digits: [^\\d]"
   ]
  },
  {
   "cell_type": "code",
   "execution_count": 29,
   "metadata": {},
   "outputs": [
    {
     "name": "stdout",
     "output_type": "stream",
     "text": [
      "Match 1 was found at 0-5: The C\n",
      "Match 2 was found at 5-10: ovid \n",
      "Match 3 was found at 10-15: Year \n"
     ]
    }
   ],
   "source": [
    "test_str = \"\"\"The Covid Year 2020\"\"\"\n",
    "regex = '\\D{3,5}'\n",
    "\n",
    "matches = re.finditer(regex, test_str, re.MULTILINE)\n",
    "for matchNum, match in enumerate(matches, start=1):\n",
    "    print (\"Match {matchNum} was found at {start}-{end}: {match}\".format(matchNum = matchNum, start = match.start(), end = match.end(), match = match.group()))    "
   ]
  },
  {
   "cell_type": "markdown",
   "metadata": {},
   "source": [
    "#### \\s Matches whitespace characters: [\\t\\n\\f\\r\\p{Z}]\n"
   ]
  },
  {
   "cell_type": "code",
   "execution_count": 30,
   "metadata": {},
   "outputs": [
    {
     "name": "stdout",
     "output_type": "stream",
     "text": [
      "Match 1 was found at 5-6:  \n"
     ]
    }
   ],
   "source": [
    "test_str = \"\"\"Hello World!\"\"\"\n",
    "regex = '\\s'\n",
    "\n",
    "matches = re.finditer(regex, test_str, re.MULTILINE)\n",
    "for matchNum, match in enumerate(matches, start=1):\n",
    "    print (\"Match {matchNum} was found at {start}-{end}: {match}\".format(matchNum = matchNum, start = match.start(), end = match.end(), match = match.group()))    "
   ]
  },
  {
   "cell_type": "markdown",
   "metadata": {},
   "source": [
    "#### \\S Matches non-whitespace characters: [^\\s]"
   ]
  },
  {
   "cell_type": "code",
   "execution_count": 31,
   "metadata": {
    "scrolled": true
   },
   "outputs": [
    {
     "name": "stdout",
     "output_type": "stream",
     "text": [
      "Match 1 was found at 0-1: H\n",
      "Match 2 was found at 1-2: e\n",
      "Match 3 was found at 2-3: l\n",
      "Match 4 was found at 3-4: l\n",
      "Match 5 was found at 4-5: o\n",
      "Match 6 was found at 6-7: W\n",
      "Match 7 was found at 7-8: o\n",
      "Match 8 was found at 8-9: r\n",
      "Match 9 was found at 9-10: l\n",
      "Match 10 was found at 10-11: d\n",
      "Match 11 was found at 11-12: !\n"
     ]
    }
   ],
   "source": [
    "test_str = \"\"\"Hello World!\"\"\"\n",
    "regex = '\\S'\n",
    "\n",
    "matches = re.finditer(regex, test_str, re.MULTILINE)\n",
    "for matchNum, match in enumerate(matches, start=1):\n",
    "    print (\"Match {matchNum} was found at {start}-{end}: {match}\".format(matchNum = matchNum, start = match.start(), end = match.end(), match = match.group()))    "
   ]
  },
  {
   "cell_type": "markdown",
   "metadata": {},
   "source": [
    "## Greedy vs Lazy"
   ]
  },
  {
   "cell_type": "code",
   "execution_count": 32,
   "metadata": {
    "scrolled": true
   },
   "outputs": [
    {
     "name": "stdout",
     "output_type": "stream",
     "text": [
      "Match 1 was found at 0-44: Barack Obama, President of the united states\n"
     ]
    }
   ],
   "source": [
    "test_str = \"\"\"Barack Obama, President of the united states\"\"\"\n",
    "regex = '.+,.+' # Greedy. Match as much as possible\n",
    "\n",
    "matches = re.finditer(regex, test_str, re.MULTILINE)\n",
    "for matchNum, match in enumerate(matches, start=1):\n",
    "    print (\"Match {matchNum} was found at {start}-{end}: {match}\".format(matchNum = matchNum, start = match.start(), end = match.end(), match = match.group()))    "
   ]
  },
  {
   "cell_type": "code",
   "execution_count": 33,
   "metadata": {
    "scrolled": true
   },
   "outputs": [
    {
     "name": "stdout",
     "output_type": "stream",
     "text": [
      "Match 1 was found at 0-14: Barack Obama, \n"
     ]
    }
   ],
   "source": [
    "test_str = \"\"\"Barack Obama, President of the united states\"\"\"\n",
    "regex = '.+?,.+?' # Lazy. Match as less as possible\n",
    "\n",
    "matches = re.finditer(regex, test_str, re.MULTILINE)\n",
    "for matchNum, match in enumerate(matches, start=1):\n",
    "    print (\"Match {matchNum} was found at {start}-{end}: {match}\".format(matchNum = matchNum, start = match.start(), end = match.end(), match = match.group()))    "
   ]
  },
  {
   "cell_type": "markdown",
   "metadata": {},
   "source": [
    "## Grouping meta characters"
   ]
  },
  {
   "cell_type": "code",
   "execution_count": 34,
   "metadata": {
    "scrolled": true
   },
   "outputs": [
    {
     "name": "stdout",
     "output_type": "stream",
     "text": [
      "Match 1 was found at 0-9: dependent\n",
      "Match 2 was found at 13-24: independent\n"
     ]
    }
   ],
   "source": [
    "test_str = \"\"\"dependent vs independent\"\"\"\n",
    "regex = '(in)?dependent'\n",
    "\n",
    "matches = re.finditer(regex, test_str, re.MULTILINE)\n",
    "for matchNum, match in enumerate(matches, start=1):\n",
    "    print (\"Match {matchNum} was found at {start}-{end}: {match}\".format(matchNum = matchNum, start = match.start(), end = match.end(), match = match.group()))    "
   ]
  },
  {
   "cell_type": "code",
   "execution_count": 35,
   "metadata": {
    "scrolled": false
   },
   "outputs": [
    {
     "name": "stdout",
     "output_type": "stream",
     "text": [
      "Match 1 was found at 0-5: apple\n"
     ]
    }
   ],
   "source": [
    "test_str = \"\"\"apple snapple\"\"\"\n",
    "regex = '\\Aapple'\n",
    "\n",
    "matches = re.finditer(regex, test_str, re.MULTILINE)\n",
    "for matchNum, match in enumerate(matches, start=1):\n",
    "    print (\"Match {matchNum} was found at {start}-{end}: {match}\".format(matchNum = matchNum, start = match.start(), end = match.end(), match = match.group()))    "
   ]
  },
  {
   "cell_type": "markdown",
   "metadata": {},
   "source": [
    "## Word boundary \\b"
   ]
  },
  {
   "cell_type": "code",
   "execution_count": 36,
   "metadata": {
    "scrolled": false
   },
   "outputs": [
    {
     "name": "stdout",
     "output_type": "stream",
     "text": [
      "Match 1 was found at 8-9: a\n"
     ]
    }
   ],
   "source": [
    "test_str = \"\"\"this is a car\"\"\"\n",
    "regex = r'\\ba\\b' # find a which has before and after word boundary\n",
    "\n",
    "matches = re.finditer(regex, test_str, re.MULTILINE)\n",
    "for matchNum, match in enumerate(matches, start=1):\n",
    "    print (\"Match {matchNum} was found at {start}-{end}: {match}\".format(matchNum = matchNum, start = match.start(), end = match.end(), match = match.group()))    "
   ]
  },
  {
   "cell_type": "markdown",
   "metadata": {},
   "source": [
    "## Lookarounds"
   ]
  },
  {
   "cell_type": "markdown",
   "metadata": {},
   "source": [
    "#### ?=\tPositive Lookahead"
   ]
  },
  {
   "cell_type": "code",
   "execution_count": 37,
   "metadata": {},
   "outputs": [],
   "source": [
    "## Yet to code"
   ]
  },
  {
   "cell_type": "code",
   "execution_count": null,
   "metadata": {},
   "outputs": [],
   "source": []
  },
  {
   "cell_type": "code",
   "execution_count": null,
   "metadata": {},
   "outputs": [],
   "source": []
  },
  {
   "cell_type": "code",
   "execution_count": null,
   "metadata": {},
   "outputs": [],
   "source": []
  }
 ],
 "metadata": {
  "kernelspec": {
   "display_name": "Python 3",
   "language": "python",
   "name": "python3"
  },
  "language_info": {
   "codemirror_mode": {
    "name": "ipython",
    "version": 3
   },
   "file_extension": ".py",
   "mimetype": "text/x-python",
   "name": "python",
   "nbconvert_exporter": "python",
   "pygments_lexer": "ipython3",
   "version": "3.7.3"
  }
 },
 "nbformat": 4,
 "nbformat_minor": 2
}
